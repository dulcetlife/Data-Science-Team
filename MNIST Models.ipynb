{
 "cells": [
  {
   "cell_type": "code",
   "execution_count": 2,
   "metadata": {
    "collapsed": false
   },
   "outputs": [],
   "source": [
    "import pandas as pd\n",
    "import numpy as np\n",
    "from sklearn.decomposition import PCA\n",
    "from sklearn.svm import SVC\n",
    "from sklearn.svm import LinearSVC\n",
    "from sklearn import cross_validation\n",
    "from sklearn.ensemble import RandomForestClassifier\n",
    "from sklearn.neighbors import KNeighborsClassifier\n",
    "from sklearn.metrics import accuracy_score\n",
    "import matplotlib.pyplot as plt\n",
    "import timeit"
   ]
  },
  {
   "cell_type": "markdown",
   "metadata": {},
   "source": [
    "Getting the data"
   ]
  },
  {
   "cell_type": "code",
   "execution_count": 3,
   "metadata": {
    "collapsed": false
   },
   "outputs": [],
   "source": [
    "train = pd.read_csv(\"train.csv\")\n",
    "features = train.columns[1:]\n",
    "X = train[features]\n",
    "y = train['label']\n",
    "X_train, X_test, y_train, y_test = cross_validation.train_test_split(X/255.,y,test_size=0.2,random_state=0)"
   ]
  },
  {
   "cell_type": "code",
   "execution_count": null,
   "metadata": {
    "collapsed": true
   },
   "outputs": [],
   "source": [
    "Random Forest"
   ]
  },
  {
   "cell_type": "code",
   "execution_count": 7,
   "metadata": {
    "collapsed": false,
    "scrolled": true
   },
   "outputs": [
    {
     "name": "stdout",
     "output_type": "stream",
     "text": [
      "Random Forest Accuracy:  0.938095238095\n"
     ]
    }
   ],
   "source": [
    "clf_rf = RandomForestClassifier()\n",
    "clf_rf.fit(X_train, y_train)\n",
    "y_pred_rf = clf_rf.predict(X_test)\n",
    "acc_rf = accuracy_score(y_test, y_pred_rf)\n",
    "print \"Random Forest Accuracy: \",acc_rf"
   ]
  },
  {
   "cell_type": "code",
   "execution_count": 50,
   "metadata": {
    "collapsed": false
   },
   "outputs": [
    {
     "name": "stdout",
     "output_type": "stream",
     "text": [
      "Number of Trees:  100\n",
      "Higest Random Forest Accuracy:  0.965833333333\n"
     ]
    }
   ],
   "source": [
    "accuracyList = []\n",
    "for i in range(1,101):\n",
    "    rf = RandomForestClassifier(n_estimators = i)\n",
    "    rf.fit(X_train, y_train)\n",
    "    y_pred_rf = rf.predict(X_test)\n",
    "    accuracyList.append(accuracy_score(y_test, y_pred_rf))\n",
    "trees = (accuracyList.index(max(accuracyList))) + 1\n",
    "print \"Number of Trees: \", trees  \n",
    "print \"Higest Random Forest Accuracy: \", max(accuracyList)"
   ]
  },
  {
   "cell_type": "code",
   "execution_count": 8,
   "metadata": {
    "collapsed": false
   },
   "outputs": [],
   "source": [
    "#numbers = list(range(1,101))\n",
    "#plt.plot(numbers, accuracyList)\n",
    "#plt.ylabel('Accuracy Rate')\n",
    "#plt.xlabel('Number of Trees')\n",
    "#plt.show()"
   ]
  },
  {
   "cell_type": "markdown",
   "metadata": {},
   "source": [
    "<img src=\"RFGraph.png\">"
   ]
  },
  {
   "cell_type": "markdown",
   "metadata": {},
   "source": [
    "KNN"
   ]
  },
  {
   "cell_type": "code",
   "execution_count": null,
   "metadata": {
    "collapsed": false,
    "scrolled": false
   },
   "outputs": [],
   "source": [
    "knn_1 = KNeighborsClassifier(n_neighbors=1)\n",
    "knn_1.fit(X_train, y_train)\n",
    "y_pred_knn1 = knn_1.predict(X_test)\n",
    "acc_knn1 = accuracy_score(y_test, y_pred_knn1)\n",
    "print \"Number of Neighbors: 1\" \n",
    "print \"K Nearest Neighbors Accuracy: \", acc_knn1"
   ]
  },
  {
   "cell_type": "code",
   "execution_count": null,
   "metadata": {
    "collapsed": true
   },
   "outputs": [],
   "source": [
    "knn_3 = KNeighborsClassifier(n_neighbors=3)\n",
    "knn_3.fit(X_train, y_train)\n",
    "y_pred_knn3 = knn_3.predict(X_test)\n",
    "acc_knn3 = accuracy_score(y_test, y_pred_knn3)\n",
    "print \"Number of Neighbors: 3\" \n",
    "print \"K Nearest Neighbors Accuracy: \", acc_knn3"
   ]
  },
  {
   "cell_type": "code",
   "execution_count": null,
   "metadata": {
    "collapsed": true
   },
   "outputs": [],
   "source": [
    "knn_5 = KNeighborsClassifier(n_neighbors=1)\n",
    "knn_5.fit(X_train, y_train)\n",
    "y_pred_knn5 = knn_5.predict(X_test)\n",
    "acc_knn5 = accuracy_score(y_test, y_pred_knn5)\n",
    "print \"Number of Neighbors: 5\" \n",
    "print \"K Nearest Neighbors Accuracy: \", acc_knn5"
   ]
  },
  {
   "cell_type": "code",
   "execution_count": null,
   "metadata": {
    "collapsed": true
   },
   "outputs": [],
   "source": [
    "knn_10 = KNeighborsClassifier(n_neighbors=1)\n",
    "knn_10.fit(X_train, y_train)\n",
    "y_pred_knn10 = knn_10.predict(X_test)\n",
    "acc_knn1 = accuracy_score(y_test, y_pred_knn10)\n",
    "print \"Number of Neighbors: 10\" \n",
    "print \"K Nearest Neighbors Accuracy: \", acc_knn10"
   ]
  },
  {
   "cell_type": "markdown",
   "metadata": {},
   "source": [
    "SVM and PCA"
   ]
  },
  {
   "cell_type": "markdown",
   "metadata": {},
   "source": [
    "Without PCA"
   ]
  },
  {
   "cell_type": "code",
   "execution_count": 45,
   "metadata": {
    "collapsed": false
   },
   "outputs": [
    {
     "name": "stdout",
     "output_type": "stream",
     "text": [
      "0.935238095238\n"
     ]
    }
   ],
   "source": [
    "svcLinear = LinearSVC()\n",
    "svcLinear.fit(X_train, y_train)\n",
    "predictLinear = svcLinear.predict(X_test)\n",
    "svc_acc_lin = accuracy_score(y_test, predictLinear)\n",
    "svcNonLinear = SVC()\n",
    "svcNonLinear.fit(X_train, y_train)\n",
    "predictNonLinear = svcNonLinear.predict(X_test)\n",
    "svc_acc_non = accuracy_score(y_test, predictNonLinear)\n",
    "print \"Linear SVM accuracy: \", svc_acc_lin\n",
    "print \"SVM accuracy: \", svc_acc_non"
   ]
  },
  {
   "cell_type": "code",
   "execution_count": 44,
   "metadata": {
    "collapsed": false
   },
   "outputs": [
    {
     "name": "stdout",
     "output_type": "stream",
     "text": [
      "0.93119047619\n"
     ]
    }
   ],
   "source": [
    "pca = PCA(n_components=50, whiten=True)\n",
    "pca.fit(X_train)\n",
    "train_data = pca.transform(X_train)\n",
    "test_data = pca.transform(X_test)\n",
    "svcPCA = SVC()\n",
    "svcPCA.fit(train_data, y_train)\n",
    "predictPCA = svcPCA.predict(test_data)\n",
    "svc_accPCA = accuracy_score(y_test, predictPCA)\n",
    "svcPCALin = SVC()\n",
    "svcPCALin.fit(train_data, y_train)\n",
    "predictPCALin = svcPCALin.predict(test_data)\n",
    "svc_accPCALin = accuracy_score(y_test, predictPCALin)\n",
    "print \"Linear SVM with PCA accuracy: \", svc_accPCALin\n",
    "print \"SVM with PCA accuracy: \", svc_accPCA"
   ]
  },
  {
   "cell_type": "code",
   "execution_count": null,
   "metadata": {
    "collapsed": false
   },
   "outputs": [],
   "source": []
  },
  {
   "cell_type": "code",
   "execution_count": null,
   "metadata": {
    "collapsed": true
   },
   "outputs": [],
   "source": []
  }
 ],
 "metadata": {
  "kernelspec": {
   "display_name": "Python 2",
   "language": "python",
   "name": "python2"
  },
  "language_info": {
   "codemirror_mode": {
    "name": "ipython",
    "version": 2
   },
   "file_extension": ".py",
   "mimetype": "text/x-python",
   "name": "python",
   "nbconvert_exporter": "python",
   "pygments_lexer": "ipython2",
   "version": "2.7.10"
  }
 },
 "nbformat": 4,
 "nbformat_minor": 0
}
